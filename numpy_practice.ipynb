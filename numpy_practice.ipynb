{
 "cells": [
  {
   "cell_type": "code",
   "execution_count": 2,
   "id": "3af0672b",
   "metadata": {},
   "outputs": [],
   "source": [
    "import numpy as np"
   ]
  },
  {
   "cell_type": "markdown",
   "id": "f07e748e",
   "metadata": {},
   "source": []
  },
  {
   "cell_type": "code",
   "execution_count": 4,
   "id": "2a2de266",
   "metadata": {},
   "outputs": [
    {
     "name": "stdout",
     "output_type": "stream",
     "text": [
      "[1 2 3]\n",
      "[[12  3  4]\n",
      " [ 1  2  4]]\n"
     ]
    }
   ],
   "source": [
    "arr_1d=np.array([1,2,3])\n",
    "print(arr_1d)\n",
    "\n",
    "arr_2d=np.array([[12,3,4],[1,2,4]])\n",
    "print(arr_2d)"
   ]
  },
  {
   "cell_type": "code",
   "execution_count": 8,
   "id": "a1d230f8",
   "metadata": {},
   "outputs": [
    {
     "name": "stdout",
     "output_type": "stream",
     "text": [
      "\n",
      " List operation time:  0.27527880668640137\n",
      "Time takenfor pyhton array 0.0013456344604492188\n"
     ]
    }
   ],
   "source": [
    "import time\n",
    "start = time.time()\n",
    "py_list = [i*2 for i in range(1000000)]\n",
    "print(\"\\n List operation time: \", time.time() - start)   \n",
    "\n",
    "start1=time.time()\n",
    "py_array=np.arange(100000)*2\n",
    "print(\"Time takenfor pyhton array\",time.time()-start1)"
   ]
  },
  {
   "cell_type": "markdown",
   "id": "4e4aa30e",
   "metadata": {},
   "source": [
    "### Creating array from scratch\n"
   ]
  },
  {
   "cell_type": "code",
   "execution_count": 15,
   "id": "f4aee7df",
   "metadata": {},
   "outputs": [
    {
     "name": "stdout",
     "output_type": "stream",
     "text": [
      "zero arrays \n",
      " [[0. 0. 0. 0.]\n",
      " [0. 0. 0. 0.]\n",
      " [0. 0. 0. 0.]]\n",
      "[[1. 1. 1. 1.]\n",
      " [1. 1. 1. 1.]\n",
      " [1. 1. 1. 1.]]\n",
      "[[7 7]\n",
      " [7 7]]\n"
     ]
    }
   ],
   "source": [
    "zeros=np.zeros((3,4))\n",
    "print(\"zero arrays \\n\", zeros)\n",
    "\n",
    "#creating matrix for ones\n",
    "ones=np.ones((3,4))\n",
    "print(ones)\n",
    "\n",
    "full=np.full((2,2),7)\n",
    "print(full)"
   ]
  },
  {
   "cell_type": "markdown",
   "id": "540b2e76",
   "metadata": {},
   "source": [
    "### Convertinga multi dimensional array into 1D"
   ]
  },
  {
   "cell_type": "code",
   "execution_count": 6,
   "id": "66cdccca",
   "metadata": {},
   "outputs": [
    {
     "name": "stdout",
     "output_type": "stream",
     "text": [
      "[2 4 6 2 5 6]\n",
      "[2 4 6 2 5 6]\n"
     ]
    }
   ],
   "source": [
    "''' ravel()-> changes in the orignal array and displays\n",
    "flatten()-> only displays it and do not make changes in the original array\n",
    "'''\n",
    "import numpy as np\n",
    "arr_2d = np.array([[2, 4, 6],\n",
    "                 [2, 5, 6]])\n",
    "print(arr_2d.ravel())\n",
    "print(arr_2d.flatten())\n",
    "\n"
   ]
  },
  {
   "cell_type": "markdown",
   "id": "55426b66",
   "metadata": {},
   "source": [
    "### converting 1d list into 2d \n"
   ]
  },
  {
   "cell_type": "code",
   "execution_count": 12,
   "id": "627fb14d",
   "metadata": {},
   "outputs": [
    {
     "name": "stdout",
     "output_type": "stream",
     "text": [
      "[[1 5 3]\n",
      " [4 5 6]]\n"
     ]
    }
   ],
   "source": [
    "import numpy as np\n",
    "array_1d=np.array([1,5,3,4,5,6])\n",
    "print(array_1d.reshape(2,3))\n",
    "\n"
   ]
  },
  {
   "cell_type": "markdown",
   "id": "a6352b4f",
   "metadata": {},
   "source": [
    "### Adding elements in an array"
   ]
  },
  {
   "cell_type": "code",
   "execution_count": null,
   "id": "f5f0c823",
   "metadata": {},
   "outputs": [
    {
     "name": "stdout",
     "output_type": "stream",
     "text": [
      "[1 2 3 4]\n",
      "[  1   2 100   3   4]\n"
     ]
    }
   ],
   "source": [
    "\n",
    "'''\n",
    "(array name,index ,value,axis=)\n",
    "axis 0 if rows\n",
    "1 if to add in columns\n",
    "'''\n",
    "arr=np.array([1,2,3,4])\n",
    "new_arr=np.insert(arr,2,100)\n",
    "print(arr)\n",
    "print(new_arr)\n",
    "#append option to add an element at the end of the array\n",
    "#APPENDING IN AN ARRAY\n"
   ]
  },
  {
   "cell_type": "markdown",
   "id": "83db933d",
   "metadata": {},
   "source": [
    "### Joinning two arrays"
   ]
  },
  {
   "cell_type": "code",
   "execution_count": null,
   "id": "2de938e3",
   "metadata": {},
   "outputs": [
    {
     "name": "stdout",
     "output_type": "stream",
     "text": [
      "[1 2 3 6 7 8]\n"
     ]
    }
   ],
   "source": [
    "'''\n",
    "np.concetate((array 1 ,array2),axis)\n",
    "axis 0->vertical \n",
    "axis 1-> horizontal\n",
    "'''\n",
    "\n",
    "arr1=np.array([1,2,3])\n",
    "arr2=np.array([6,7,8])\n",
    "arr3=np.concatenate((arr1,arr2))\n",
    "print(arr3)  #yhis would join the two arrays in the deafault horizontal"
   ]
  },
  {
   "cell_type": "markdown",
   "id": "a5ab6f20",
   "metadata": {},
   "source": [
    "### Removing element of an array"
   ]
  },
  {
   "cell_type": "code",
   "execution_count": 7,
   "id": "23a96e9a",
   "metadata": {},
   "outputs": [
    {
     "name": "stdout",
     "output_type": "stream",
     "text": [
      "[1, 2, 34, 5]\n",
      "[ 2 34  5]\n"
     ]
    }
   ],
   "source": [
    "#np.delete(array ,index,axis=none)\n",
    "import numpy as np\n",
    "array1=([1,2,34,5])\n",
    "arr1_=np.delete(array1,0,axis=None)\n",
    "print(array1)\n",
    "print(arr1_)"
   ]
  },
  {
   "cell_type": "markdown",
   "id": "29b37581",
   "metadata": {},
   "source": [
    "### stacking arrays"
   ]
  },
  {
   "cell_type": "code",
   "execution_count": 8,
   "id": "cad74b0a",
   "metadata": {},
   "outputs": [
    {
     "name": "stdout",
     "output_type": "stream",
     "text": [
      "[[1 2 3]\n",
      " [6 7 8]]\n",
      "[1 2 3 6 7 8]\n"
     ]
    }
   ],
   "source": [
    "# vstack() for vertical stakking \n",
    "#hstack() for horizontal stacking\n",
    "\n",
    "import numpy as np\n",
    "arr1=np.array([1,2,3])\n",
    "\n",
    "arr2=np.array([6,7,8])\n",
    "print(np.vstack((arr1,arr2)))\n",
    "print(np.hstack((arr1,arr2)))\n",
    "\n"
   ]
  },
  {
   "cell_type": "markdown",
   "id": "7cc26891",
   "metadata": {},
   "source": [
    "### splitting array"
   ]
  },
  {
   "cell_type": "code",
   "execution_count": 11,
   "id": "642f2a42",
   "metadata": {},
   "outputs": [
    {
     "name": "stdout",
     "output_type": "stream",
     "text": [
      "[array([12]), array([4]), array([5]), array([6]), array([7]), array([8])]\n"
     ]
    }
   ],
   "source": [
    "#np.split()-> equal\n",
    "#np.vsplit()-> vertical\n",
    "#np.hsplit()->horizontal\n",
    "import numpy as np\n",
    "array4=np.array([12,4,5,6,7,8])\n",
    "print(np.split(array4,6))\n",
    "\n"
   ]
  },
  {
   "cell_type": "markdown",
   "id": "6bbb7f90",
   "metadata": {},
   "source": [
    "### broadcasting"
   ]
  },
  {
   "cell_type": "code",
   "execution_count": null,
   "id": "2e37ad8f",
   "metadata": {},
   "outputs": [
    {
     "name": "stdout",
     "output_type": "stream",
     "text": [
      "[[3 5 6]\n",
      " [4 6 8]]\n"
     ]
    }
   ],
   "source": [
    "'''\n",
    "1.matching dimesnions data easy to do aritchemtic operations with coz of the same size\n",
    "2.expanding single elements for example [1,2,3] +2\n",
    "-----> answer/output would be 2,4,5\n",
    "3.incompetable shapes -> throws error in case of different shapes of  array like [1,2] cannot be added with [1,23,5,6,7]\n",
    "\n",
    "'''\n",
    "#create a 2x3 matrix\n",
    "matrix=np.array(([1,2,3],[2,3,5]))\n",
    "#create a 1d matrix\n",
    "oned_matrix=np.array([2,3,3])\n",
    "result=matrix+oned_matrix\n",
    "print(result)\n",
    "\n",
    "#broadcasting expand small arrays into large one \n",
    "#faster than loops \n",
    "#VECTORIZATION ----> appplies operation on the netire array 100x faster than loop"
   ]
  },
  {
   "cell_type": "markdown",
   "id": "de734a13",
   "metadata": {},
   "source": [
    "### handling missing values\n",
    "\n"
   ]
  },
  {
   "cell_type": "code",
   "execution_count": 15,
   "id": "7776bb9e",
   "metadata": {},
   "outputs": [
    {
     "name": "stdout",
     "output_type": "stream",
     "text": [
      "[False False  True False  True False]\n"
     ]
    }
   ],
   "source": [
    "# np.isnan()--> detect misssing values\n",
    "# np.nan_to_num()-->missing values replacing with another number\n",
    "#np.isnot()\n",
    "# nan stands for not a number\n",
    "import numpy as np\n",
    "array5=np.array([1,2,np.nan,4,np.nan,6])\n",
    "print(np.isnan(array5))\n",
    "\n"
   ]
  },
  {
   "cell_type": "markdown",
   "id": "63173f4e",
   "metadata": {},
   "source": [
    "### Using where to search in an array\n"
   ]
  },
  {
   "cell_type": "code",
   "execution_count": 2,
   "id": "9bc97541",
   "metadata": {},
   "outputs": [
    {
     "name": "stdout",
     "output_type": "stream",
     "text": [
      "(array([1]),)\n"
     ]
    }
   ],
   "source": [
    "import numpy as np\n",
    "array6=np.array([1,2,3,4,5])\n",
    "print(np.where(array6==2))"
   ]
  }
 ],
 "metadata": {
  "kernelspec": {
   "display_name": "Python 3",
   "language": "python",
   "name": "python3"
  },
  "language_info": {
   "codemirror_mode": {
    "name": "ipython",
    "version": 3
   },
   "file_extension": ".py",
   "mimetype": "text/x-python",
   "name": "python",
   "nbconvert_exporter": "python",
   "pygments_lexer": "ipython3",
   "version": "3.11.9"
  }
 },
 "nbformat": 4,
 "nbformat_minor": 5
}
